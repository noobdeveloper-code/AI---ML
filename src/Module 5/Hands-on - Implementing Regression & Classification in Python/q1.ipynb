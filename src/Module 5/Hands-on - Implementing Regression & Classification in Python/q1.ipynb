{
 "cells": [
  {
   "cell_type": "markdown",
   "metadata": {},
   "source": [
    "Question 1: Linear Regression with a Simple Dataset<br>\n",
    "Description: Train a linear regression model using a simple dataset with only one feature. Use\n",
    "scikit-learn to fit the model and predict the output."
   ]
  },
  {
   "cell_type": "code",
   "execution_count": 4,
   "metadata": {},
   "outputs": [
    {
     "name": "stdout",
     "output_type": "stream",
     "text": [
      "60000.0\n"
     ]
    }
   ],
   "source": [
    "import numpy as np\n",
    "from sklearn.linear_model import LinearRegression\n",
    "\n",
    "X = np.array([[1], [2], [3], [4], [5]])\n",
    "y = np.array([10000, 20000, 30000, 40000, 50000])\n",
    "\n",
    "model = LinearRegression()\n",
    "model.fit(X, y)\n",
    "\n",
    "X_new = np.array([[6]])\n",
    "y_pred = model.predict(X_new)\n",
    "print(y_pred[0])\n"
   ]
  },
  {
   "cell_type": "markdown",
   "metadata": {},
   "source": [
    "Question 2: Evaluation of a Linear Regression Model<br>\n",
    "Description: Calculate the Mean Absolute Error and R-squared value for the linear regression\n",
    "model trained in Question 1."
   ]
  },
  {
   "cell_type": "code",
   "execution_count": null,
   "metadata": {},
   "outputs": [],
   "source": [
    "# Write your code here\n",
    "import numpy as np\n",
    "from sklearn.linear_model import LinearRegression\n",
    "from sklearn.metrics import mean_absolute_error, r2_score\n",
    "\n",
    "X = np.array([[1], [2], [3], [4], [5]])\n",
    "y = np.array([10000, 20000, 30000, 40000, 50000])\n",
    "\n",
    "model = LinearRegression()\n",
    "model.fit(X, y)\n",
    "\n",
    "y_pred = model.predict(X)\n",
    "\n",
    "mae = mean_absolute_error(y, y_pred)\n",
    "r2 = r2_score(y, y_pred)\n",
    "\n",
    "print(\"Mean Absolute Error:\", mae)\n",
    "print(\"R-squared:\", r2)\n"
   ]
  },
  {
   "cell_type": "markdown",
   "metadata": {},
   "source": [
    "Question 3: Logistic Regression on a Binary Classification Problem<br>\n",
    "Description: Train a logistic regression model using a simple binary classification dataset and make predictions."
   ]
  },
  {
   "cell_type": "code",
   "execution_count": null,
   "metadata": {},
   "outputs": [],
   "source": [
    "# Write your code here\n",
    "import numpy as np\n",
    "from sklearn.linear_model import LogisticRegression\n",
    "\n",
    "# Simple binary classification dataset\n",
    "X = np.array([[1], [2], [3], [4], [5], [6]])\n",
    "y = np.array([0, 0, 0, 1, 1, 1])  # Class labels (0 or 1)\n",
    "\n",
    "# Train logistic regression model\n",
    "model = LogisticRegression()\n",
    "model.fit(X, y)\n",
    "\n",
    "# Make prediction for a new value\n",
    "X_new = np.array([[2.5], [4.5]])\n",
    "y_pred = model.predict(X_new)\n",
    "\n",
    "print(\"Predictions:\", y_pred)\n"
   ]
  },
  {
   "cell_type": "markdown",
   "metadata": {},
   "source": [
    "Question 4: Visualize Data in Logistic Regression<br>\n",
    "Description: Plot the dataset and the logistic regression decision boundary."
   ]
  },
  {
   "cell_type": "code",
   "execution_count": null,
   "metadata": {},
   "outputs": [],
   "source": [
    "# Write your code here\n",
    "import numpy as np\n",
    "import matplotlib.pyplot as plt\n",
    "from sklearn.linear_model import LogisticRegression\n",
    "\n",
    "# Dataset\n",
    "X = np.array([[1], [2], [3], [4], [5], [6]])\n",
    "y = np.array([0, 0, 0, 1, 1, 1])\n",
    "\n",
    "# Model training\n",
    "model = LogisticRegression()\n",
    "model.fit(X, y)\n",
    "\n",
    "# Plot data points\n",
    "plt.scatter(X, y, color='black', label='Data')\n",
    "\n",
    "# Plot decision boundary curve\n",
    "X_test = np.linspace(0, 7, 300).reshape(-1, 1)\n",
    "y_prob = model.predict_proba(X_test)[:, 1]\n",
    "plt.plot(X_test, y_prob, color='blue', linewidth=2, label='Decision boundary (sigmoid curve)')\n",
    "\n",
    "plt.axhline(0.5, color='red', linestyle='--', linewidth=1)\n",
    "plt.xlabel(\"Feature\")\n",
    "plt.ylabel(\"Probability of Class 1\")\n",
    "plt.legend()\n",
    "plt.title(\"Logistic Regression Decision Boundary\")\n",
    "plt.grid(True)\n",
    "plt.show()\n"
   ]
  },
  {
   "cell_type": "markdown",
   "metadata": {},
   "source": [
    "Question 5 : Train a Multiple Linear Regression Model<br>\n",
    "Description: Train a linear regression model with multiple features."
   ]
  },
  {
   "cell_type": "code",
   "execution_count": null,
   "metadata": {},
   "outputs": [],
   "source": [
    "# Write your code here\n",
    "import numpy as np\n",
    "from sklearn.linear_model import LinearRegression\n",
    "\n",
    "# Sample dataset with multiple features\n",
    "# X = [Years of Experience, Age]\n",
    "X = np.array([[1, 22], [2, 23], [3, 24], [4, 25], [5, 26]])\n",
    "y = np.array([10000, 20000, 30000, 40000, 50000])  # Salary\n",
    "\n",
    "# Create the Linear Regression model\n",
    "model = LinearRegression()\n",
    "\n",
    "# Train the model\n",
    "model.fit(X, y)\n",
    "\n",
    "# Predict for new data (for 6 years of experience, 27 years old)\n",
    "X_new = np.array([[6, 27]])\n",
    "y_pred = model.predict(X_new)\n",
    "\n",
    "print(\"Predicted Salary:\", y_pred[0])\n"
   ]
  },
  {
   "cell_type": "markdown",
   "metadata": {},
   "source": [
    "Question 6: Normalize Features for Linear Regression<br>\n",
    "Description: Normalize features of a dataset before applying linear regression."
   ]
  },
  {
   "cell_type": "code",
   "execution_count": null,
   "metadata": {},
   "outputs": [],
   "source": [
    "# Write your code here\n",
    "import numpy as np\n",
    "from sklearn.linear_model import LinearRegression\n",
    "from sklearn.preprocessing import StandardScaler\n",
    "\n",
    "# Sample dataset with multiple features\n",
    "X = np.array([[1, 22], [2, 23], [3, 24], [4, 25], [5, 26]])  # Features: [Years of Experience, Age]\n",
    "y = np.array([10000, 20000, 30000, 40000, 50000])  # Target: Salary\n",
    "\n",
    "# Normalize the features using StandardScaler\n",
    "scaler = StandardScaler()\n",
    "X_normalized = scaler.fit_transform(X)\n",
    "\n",
    "# Create and train the Linear Regression model\n",
    "model = LinearRegression()\n",
    "model.fit(X_normalized, y)\n",
    "\n",
    "# Predict for a new normalized input (6 years of experience, 27 years old)\n",
    "X_new = np.array([[6, 27]])\n",
    "X_new_normalized = scaler.transform(X_new)  # Normalize new data point\n",
    "y_pred = model.predict(X_new_normalized)\n",
    "\n",
    "print(\"Predicted Salary (after normalization):\", y_pred[0])\n"
   ]
  },
  {
   "cell_type": "markdown",
   "metadata": {},
   "source": [
    "Question 7: Logistic Regression with a Real-world Dataset<br>\n",
    "Description: Use a real-world dataset like the Iris dataset to perform logistic regression with\n",
    "multi-class classification."
   ]
  },
  {
   "cell_type": "code",
   "execution_count": null,
   "metadata": {},
   "outputs": [],
   "source": [
    "# Write your code here\n",
    "import numpy as np\n",
    "from sklearn.datasets import load_iris\n",
    "from sklearn.linear_model import LogisticRegression\n",
    "from sklearn.model_selection import train_test_split\n",
    "from sklearn.metrics import accuracy_score\n",
    "\n",
    "# Load the Iris dataset\n",
    "iris = load_iris()\n",
    "X = iris.data  # Features: Sepal length, Sepal width, Petal length, Petal width\n",
    "y = iris.target  # Target: Species (3 classes)\n",
    "\n",
    "# Split the dataset into training and test sets\n",
    "X_train, X_test, y_train, y_test = train_test_split(X, y, test_size=0.3, random_state=42)\n",
    "\n",
    "# Create the Logistic Regression model with multi-class support (softmax)\n",
    "model = LogisticRegression(max_iter=200)\n",
    "\n",
    "# Train the model\n",
    "model.fit(X_train, y_train)\n",
    "\n",
    "# Predict on the test set\n",
    "y_pred = model.predict(X_test)\n",
    "\n",
    "# Evaluate the model\n",
    "accuracy = accuracy_score(y_test, y_pred)\n",
    "\n",
    "print(\"Accuracy of the Logistic Regression model:\", accuracy)\n"
   ]
  },
  {
   "cell_type": "markdown",
   "metadata": {},
   "source": [
    "Question 8: Polynomial Regression<br>\n",
    "Description: Train a polynomial regression model on a dataset by transforming input features into polynomial features."
   ]
  },
  {
   "cell_type": "code",
   "execution_count": null,
   "metadata": {},
   "outputs": [],
   "source": [
    "# Write your code here\n",
    "import numpy as np\n",
    "import matplotlib.pyplot as plt\n",
    "from sklearn.linear_model import LinearRegression\n",
    "from sklearn.preprocessing import PolynomialFeatures\n",
    "\n",
    "# Sample dataset with a non-linear relationship\n",
    "X = np.array([[1], [2], [3], [4], [5]])\n",
    "y = np.array([1, 4, 9, 16, 25])  # Quadratic relationship y = x^2\n",
    "\n",
    "# Transform the input features into polynomial features\n",
    "poly = PolynomialFeatures(degree=2)  # Degree 2 for quadratic regression\n",
    "X_poly = poly.fit_transform(X)\n",
    "\n",
    "# Train the Linear Regression model on the transformed features\n",
    "model = LinearRegression()\n",
    "model.fit(X_poly, y)\n",
    "\n",
    "# Predict using the trained model\n",
    "X_new = np.array([[6], [7]])  # New data for prediction\n",
    "X_new_poly = poly.transform(X_new)  # Transform the new data to polynomial features\n",
    "y_pred = model.predict(X_new_poly)\n",
    "\n",
    "# Plot the results\n",
    "plt.scatter(X, y, color='black', label='Data')\n",
    "plt.plot(X, model.predict(X_poly), color='blue', label='Polynomial Regression')\n",
    "plt.xlabel(\"Feature\")\n",
    "plt.ylabel(\"Target\")\n",
    "plt.legend()\n",
    "plt.title(\"Polynomial Regression (Degree = 2)\")\n",
    "plt.show()\n",
    "\n",
    "print(\"Predictions for X = 6 and X = 7:\", y_pred)\n"
   ]
  },
  {
   "cell_type": "markdown",
   "metadata": {},
   "source": [
    "Question 9: Ridge Regression for Reducing Overfitting<br>\n",
    "Description: Implement Ridge regression to handle potential overfitting in linear regression involving multiple features."
   ]
  },
  {
   "cell_type": "code",
   "execution_count": null,
   "metadata": {},
   "outputs": [],
   "source": [
    "# Write your code here\n",
    "\n",
    "import numpy as np\n",
    "from sklearn.linear_model import Ridge\n",
    "from sklearn.model_selection import train_test_split\n",
    "from sklearn.metrics import mean_squared_error\n",
    "\n",
    "# Sample dataset with multiple features\n",
    "X = np.array([[1, 22], [2, 23], [3, 24], [4, 25], [5, 26], [6, 27], [7, 28]])\n",
    "y = np.array([10000, 20000, 30000, 40000, 50000, 60000, 70000])  # Target: Salary\n",
    "\n",
    "# Split the dataset into training and test sets\n",
    "X_train, X_test, y_train, y_test = train_test_split(X, y, test_size=0.3, random_state=42)\n",
    "\n",
    "# Create the Ridge regression model with a regularization parameter alpha (lambda)\n",
    "ridge_model = Ridge(alpha=1.0)\n",
    "\n",
    "# Train the Ridge regression model\n",
    "ridge_model.fit(X_train, y_train)\n",
    "\n",
    "# Predict on the test set\n",
    "y_pred = ridge_model.predict(X_test)\n",
    "\n",
    "# Evaluate the model using Mean Squared Error\n",
    "mse = mean_squared_error(y_test, y_pred)\n",
    "\n",
    "print(\"Predicted salaries:\", y_pred)\n",
    "print(\"Mean Squared Error:\", mse)\n",
    "print(\"Model Coefficients:\", ridge_model.coef_)\n",
    "print(\"Intercept:\", ridge_model.intercept_)\n"
   ]
  },
  {
   "cell_type": "markdown",
   "metadata": {},
   "source": [
    "Question 10: Logistic Regression with L2 Regularization<br>\n",
    "Description: Apply L2 regularization (also known as Ridge regularization) to logistic regression to prevent overfitting."
   ]
  },
  {
   "cell_type": "code",
   "execution_count": null,
   "metadata": {},
   "outputs": [],
   "source": [
    "# Write your code here\n",
    "import numpy as np\n",
    "from sklearn.datasets import load_iris\n",
    "from sklearn.model_selection import train_test_split\n",
    "from sklearn.linear_model import LogisticRegression\n",
    "from sklearn.metrics import accuracy_score\n",
    "\n",
    "# Load the Iris dataset (multi-class classification)\n",
    "iris = load_iris()\n",
    "X = iris.data  # Features: Sepal length, Sepal width, Petal length, Petal width\n",
    "y = iris.target  # Target: Species (3 classes)\n",
    "\n",
    "# Split the dataset into training and test sets\n",
    "X_train, X_test, y_train, y_test = train_test_split(X, y, test_size=0.3, random_state=42)\n",
    "\n",
    "# Create the Logistic Regression model with L2 regularization\n",
    "# 'C' is the inverse of regularization strength; smaller 'C' means more regularization\n",
    "model = LogisticRegression(penalty='l2', C=1.0, max_iter=200)\n",
    "\n",
    "# Train the model\n",
    "model.fit(X_train, y_train)\n",
    "\n",
    "# Predict on the test set\n",
    "y_pred = model.predict(X_test)\n",
    "\n",
    "# Evaluate the model's accuracy\n",
    "accuracy = accuracy_score(y_test, y_pred)\n",
    "\n",
    "print(\"Accuracy of the Logistic Regression model with L2 regularization:\", accuracy)\n"
   ]
  }
 ],
 "metadata": {
  "kernelspec": {
   "display_name": "Python 3",
   "language": "python",
   "name": "python3"
  },
  "language_info": {
   "codemirror_mode": {
    "name": "ipython",
    "version": 3
   },
   "file_extension": ".py",
   "mimetype": "text/x-python",
   "name": "python",
   "nbconvert_exporter": "python",
   "pygments_lexer": "ipython3",
   "version": "3.10.12"
  }
 },
 "nbformat": 4,
 "nbformat_minor": 2
}
